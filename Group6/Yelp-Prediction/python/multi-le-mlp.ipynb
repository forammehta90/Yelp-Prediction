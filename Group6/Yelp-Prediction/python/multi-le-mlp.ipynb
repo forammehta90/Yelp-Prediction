{
 "cells": [
  {
   "cell_type": "code",
   "execution_count": 1,
   "metadata": {},
   "outputs": [],
   "source": [
    "import sys\n",
    "import json\n",
    "import csv\n",
    "import numpy as np\n",
    "import pandas as pd\n",
    "from pandas.io.json import json_normalize\n",
    "from collections import Counter\n",
    "from sklearn.base import TransformerMixin\n",
    "from scipy.sparse import *"
   ]
  },
  {
   "cell_type": "code",
   "execution_count": null,
   "metadata": {},
   "outputs": [],
   "source": [
    "businessjson = 'dataset/business.json'\n",
    "\n",
    "# Load Business data\n",
    "business_json_lines = [json.loads( l.strip() ) for l in open(businessjson).readlines() ]\n",
    "df = json_normalize(business_json_lines)"
   ]
  },
  {
   "cell_type": "code",
   "execution_count": null,
   "metadata": {},
   "outputs": [],
   "source": [
    "# Get records from Yelp set for only restaurants\n",
    "df = df[df['categories'].astype(str).str.lower().str.contains('restaurant') == True]\n",
    "df = df.reset_index(drop=True)\n",
    "\n",
    "\n",
    "#df = df[df['review_count']>=35]\n",
    "#df = df.reset_index(drop=True)\n",
    "\n",
    "#Remove Columns of least significance\n",
    "df = df.drop(['address','attributes.AcceptsInsurance','attributes.AgesAllowed','attributes.BYOB','attributes.ByAppointmentOnly','attributes.Corkage','attributes.DietaryRestrictions.dairy-free','attributes.DietaryRestrictions.gluten-free','attributes.DietaryRestrictions.halal','attributes.DietaryRestrictions.kosher','attributes.DietaryRestrictions.soy-free','attributes.DietaryRestrictions.vegan','attributes.DietaryRestrictions.vegetarian','attributes.HairSpecializesIn.africanamerican','attributes.HairSpecializesIn.asian','attributes.HairSpecializesIn.coloring','attributes.HairSpecializesIn.curly','attributes.HairSpecializesIn.extensions','attributes.HairSpecializesIn.kids','attributes.HairSpecializesIn.perms','attributes.HairSpecializesIn.straightperms','attributes.Open24Hours','attributes.RestaurantsCounterService','business_id','categories','hours.Friday','hours.Monday','hours.Saturday','hours.Sunday','hours.Thursday','hours.Tuesday','hours.Wednesday','latitude','longitude','name','neighborhood','state','city','postal_code'],axis=1)\n",
    "df = df.copy()\n",
    "# Classify the records\n",
    "df['target'] = [1 if df['stars'][x] >= 3.5 and df['review_count'][x] >= 30 else 0 for x in range(len(df))]\n",
    "df.to_csv('business_csv_filter.csv', encoding='utf-8', index=False)\n",
    "#print df_binary['target'].value_counts()\n",
    "\n"
   ]
  },
  {
   "cell_type": "code",
   "execution_count": null,
   "metadata": {},
   "outputs": [],
   "source": [
    "headers = list(df.select_dtypes(include=['object']).columns.values)\n",
    "#print headers\n",
    "df = pd.get_dummies(data=df, columns=headers)\n",
    "df = df.fillna(0)\n",
    "\n",
    "\n",
    "#print df.head(10)"
   ]
  },
  {
   "cell_type": "code",
   "execution_count": null,
   "metadata": {},
   "outputs": [],
   "source": [
    "from sklearn.preprocessing import LabelEncoder\n",
    "headers = list(df.select_dtypes(include=['object']).columns.values)\n",
    "#df = df.fillna('Dummy')\n",
    "#print headers\n",
    "\n",
    "#for col in headers:\n",
    "#print df['attributes.Alcohol'].head(2)\n",
    "lb_make = LabelEncoder()\n",
    "for col in headers:\n",
    "    print col\n",
    "    df[col] = df[col].fillna('Dummy')\n",
    "\n",
    "    df[col] = lb_make.fit_transform(df[col])\n",
    "    print df[col].head(5)\n",
    "#df['attributes.Ambience.casual'] = lb_make.fit_transform(df['attributes.Ambience.casual'])\n",
    "\n",
    "\n",
    "print df['attributes.Ambience.casual']"
   ]
  },
  {
   "cell_type": "code",
   "execution_count": null,
   "metadata": {},
   "outputs": [],
   "source": [
    "# Seggregting data to positive and negative buckets.\n",
    "# Splitting train and test data for binary.\n",
    "pos_bucket = df.loc[df['target'] == 1].reset_index(drop=True)\n",
    "neg_bucket = df.loc[df['target'] == 0].reset_index(drop=True)\n",
    "\n",
    "print len(pos_bucket)\n",
    "print len(neg_bucket)\n",
    "\n",
    "df_pos_train = pos_bucket.loc[0:11588]\n",
    "df_pos_test = pos_bucket.loc[11588:]\n",
    "df_neg_train = neg_bucket.loc[0:11884]\n",
    "df_neg_test = neg_bucket.loc[11884:]\n",
    "\n",
    "#print df_pos_train.shape[0],\"df_pos_train\"\n",
    "#print df_pos_test.shape[0],\"df_pos_test\"\n",
    "#print df_neg_train.shape[0],\"df_neg_train\"\n",
    "#print df_neg_test.shape[0],\"df_neg_test\"\n",
    "\n",
    "\n",
    "df_train = pd.concat([df_pos_train, df_neg_train], axis=0)\n",
    "df_train = df_train.reset_index(drop=True)\n",
    "\n",
    "#print df_train.shape[0],\"df_train\"\n",
    "\n",
    "df_test = pd.concat([df_pos_test, df_neg_test], axis=0)\n",
    "df_test = df_test.reset_index(drop=True)\n",
    "\n",
    "df_train.to_csv('business_binary_le_final_train.csv', encoding='utf-8', index=False)\n",
    "#df_test.to_csv('business_binary_final_test.csv', encoding='utf-8', index=False)\n",
    "\n",
    "#print df_test.shape[0],\"df_test\"\n",
    "#print df_train.loc[0:1],\" df_train.loc_ahead\"\n",
    "#print df_train.loc[12589],\" df_train.loc_behind\""
   ]
  },
  {
   "cell_type": "code",
   "execution_count": 2,
   "metadata": {},
   "outputs": [
    {
     "name": "stdout",
     "output_type": "stream",
     "text": [
      "['2', '1', '0', '0', '0', '0', '0', '0', '0', '0', '0', '2', '2', '2', '2', '2', '2', '2', '1', '2', '1', '0', '1', '0', '0', '0', '0', '2', '2', '2', '2', '1', '0', '0', '0', '1', '0', '0', '2', '1', '2', '2', '2', '2', '2', '1', '2', '1', '0', '1', '0', '1', '2', '1', '1', '1', '0', '1', '2', '1', '3']\n"
     ]
    }
   ],
   "source": [
    "dataset = list()\n",
    "labels = list()\n",
    "dataset_test = list()\n",
    "\n",
    "with open('business_multi_le_finally_train.csv', 'r') as f:\n",
    "    reader = csv.reader(f)\n",
    "    your_list = list(reader)\n",
    "\n",
    "print your_list[0]\n",
    "for l in your_list:\n",
    "    dataset.append(l[0:-1])\n",
    "    labels.append(l[-1])"
   ]
  },
  {
   "cell_type": "code",
   "execution_count": 3,
   "metadata": {},
   "outputs": [
    {
     "name": "stdout",
     "output_type": "stream",
     "text": [
      "3495\n"
     ]
    }
   ],
   "source": [
    "labels_test = list()\n",
    "dataset_test = list()\n",
    "\n",
    "with open('business_multi_le_finally_test.csv', 'r') as f:\n",
    "    reader = csv.reader(f)\n",
    "    your_list = list(reader)\n",
    "\n",
    "for l in your_list:\n",
    "    dataset_test.append(l[0:-1])\n",
    "    labels_test.append(l[-1])\n",
    "print len(dataset_test)"
   ]
  },
  {
   "cell_type": "code",
   "execution_count": 4,
   "metadata": {},
   "outputs": [],
   "source": [
    "docs = list()\n",
    "for list2 in dataset:\n",
    "    docs.append([int(n) if n != '' else 0 for n in list2])\n",
    "dataset_csr_train = csr_matrix(docs)"
   ]
  },
  {
   "cell_type": "code",
   "execution_count": 5,
   "metadata": {},
   "outputs": [
    {
     "name": "stdout",
     "output_type": "stream",
     "text": [
      "3495\n",
      "(3495, 60)\n"
     ]
    }
   ],
   "source": [
    "docs_test = list()\n",
    "print len(dataset_test)\n",
    "for list1 in dataset_test:\n",
    "    docs_test.append([int(n) if n != '' else 0 for n in list1])\n",
    "dataset_csr_test = csr_matrix(docs_test)\n",
    "print dataset_csr_test.shape"
   ]
  },
  {
   "cell_type": "code",
   "execution_count": 6,
   "metadata": {},
   "outputs": [],
   "source": [
    "from sklearn import preprocessing\n",
    "mat_train = preprocessing.normalize(dataset_csr_train, norm='l2')\n",
    "mat_test = preprocessing.normalize(dataset_csr_test, norm='l2')"
   ]
  },
  {
   "cell_type": "code",
   "execution_count": 7,
   "metadata": {},
   "outputs": [],
   "source": [
    "\n",
    "from sklearn.model_selection import cross_val_score\n",
    "from sklearn.neural_network import MLPClassifier\n",
    "from sklearn.feature_selection import SelectKBest\n",
    "from sklearn.feature_selection import chi2\n",
    "\n",
    "ch2_model = SelectKBest(chi2, k=50).fit(mat_train, labels)\n",
    "X_chi2 = ch2_model.transform(mat_train)\n",
    "X_chi2_test = ch2_model.transform(mat_test)"
   ]
  },
  {
   "cell_type": "code",
   "execution_count": 8,
   "metadata": {},
   "outputs": [],
   "source": [
    "from sklearn.metrics import f1_score\n",
    "clf = MLPClassifier(solver='lbfgs', alpha=1e-5,\n",
    "        hidden_layer_sizes=(12, 7), random_state=1)"
   ]
  },
  {
   "cell_type": "code",
   "execution_count": 13,
   "metadata": {},
   "outputs": [],
   "source": [
    "labels = [np.round(float(x)) for x in labels]\n",
    "labels_test = [np.round(float(x)) for x in labels_test]"
   ]
  },
  {
   "cell_type": "code",
   "execution_count": 14,
   "metadata": {},
   "outputs": [
    {
     "name": "stdout",
     "output_type": "stream",
     "text": [
      "0.759318881019\n",
      "0.750214592275\n"
     ]
    }
   ],
   "source": [
    "y_predict = clf.fit(X_chi2, labels).predict(X_chi2)\n",
    "print f1_score(labels, y_predict, average='micro')\n",
    "\n",
    "y_predict_test = clf.fit(X_chi2, labels).predict(X_chi2_test)\n",
    "print f1_score(labels_test, y_predict_test, average='micro')  "
   ]
  }
 ],
 "metadata": {
  "kernelspec": {
   "display_name": "Python 2",
   "language": "python",
   "name": "python2"
  },
  "language_info": {
   "codemirror_mode": {
    "name": "ipython",
    "version": 2
   },
   "file_extension": ".py",
   "mimetype": "text/x-python",
   "name": "python",
   "nbconvert_exporter": "python",
   "pygments_lexer": "ipython2",
   "version": "2.7.14"
  }
 },
 "nbformat": 4,
 "nbformat_minor": 2
}
